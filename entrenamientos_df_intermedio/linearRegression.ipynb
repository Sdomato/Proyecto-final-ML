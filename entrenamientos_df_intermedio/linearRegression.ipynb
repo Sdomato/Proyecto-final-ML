{
 "cells": [
  {
   "cell_type": "code",
   "execution_count": 9,
   "metadata": {},
   "outputs": [
    {
     "name": "stdout",
     "output_type": "stream",
     "text": [
      "Current working directory: /Users/matiaslein/Desktop/Proyecto-final-ML/entrenamientos_df_intermedio\n"
     ]
    }
   ],
   "source": [
    "import pandas as pd\n",
    "from sklearn.model_selection import train_test_split\n",
    "from sklearn.linear_model import LinearRegression\n",
    "from sklearn.metrics import (\n",
    "    mean_absolute_error, mean_squared_error, r2_score, median_absolute_error\n",
    ")\n",
    "import numpy as np\n",
    "import matplotlib.pyplot as plt\n",
    "import seaborn as sns\n",
    "import os\n",
    "from sklearn.linear_model import Ridge\n",
    "\n",
    "print(\"Current working directory:\", os.getcwd())"
   ]
  },
  {
   "cell_type": "code",
   "execution_count": 13,
   "metadata": {},
   "outputs": [],
   "source": [
    "\n",
    "\n",
    "# Dataset\n",
    "df = pd.read_csv('../datasetintermedio.csv')\n",
    "y = df['Precio_usd']\n",
    "X = df.drop(columns=['Precio_usd'])\n",
    "\n",
    "# Manejo de NaN\n",
    "X = X.fillna(X.median())\n",
    "\n",
    "# Split\n",
    "from sklearn.model_selection import train_test_split\n",
    "X_train, X_test, y_train, y_test = train_test_split(X, y, test_size=0.2, random_state=42)"
   ]
  },
  {
   "cell_type": "code",
   "execution_count": 14,
   "metadata": {},
   "outputs": [
    {
     "name": "stdout",
     "output_type": "stream",
     "text": [
      "\n",
      "📊 Modelo: LinearRegression\n",
      "MAE:    $276,476\n",
      "MedAE:  $3,661\n",
      "RMSE:   $16,333,009\n",
      "R²:     -602310.945\n",
      "MAPE:   1635.31%\n",
      "Top + features: ['Año', 'Cilindrada', 'Marca_BMW']\n",
      "Top - features: ['Marca_Renault', 'Transmision_Automática', 'Transmision_Manual']\n",
      "\n",
      "📊 Modelo: Ridge\n",
      "MAE:    $276,388\n",
      "MedAE:  $3,661\n",
      "RMSE:   $16,327,762\n",
      "R²:     -601924.045\n",
      "MAPE:   1634.79%\n",
      "Top + features: ['Año', 'Cilindrada', 'Marca_BMW']\n",
      "Top - features: ['Marca_Renault', 'Transmision_Automática', 'Transmision_Manual']\n",
      "\n",
      "📊 Modelo: Lasso\n",
      "MAE:    $276,417\n",
      "MedAE:  $3,656\n",
      "RMSE:   $16,329,535\n",
      "R²:     -602054.812\n",
      "MAPE:   1634.96%\n",
      "Top + features: ['Año', 'Cilindrada', 'Marca_BMW']\n",
      "Top - features: ['Marca_Renault', 'Transmision_Automática', 'Transmision_Manual']\n"
     ]
    }
   ],
   "source": [
    "\n",
    "# Modelos\n",
    "modelos = {\n",
    "    'LinearRegression': make_pipeline(StandardScaler(), LinearRegression()),\n",
    "    'Ridge': make_pipeline(StandardScaler(), Ridge(alpha=1.0)),\n",
    "    'Lasso': make_pipeline(StandardScaler(), Lasso(alpha=0.5, max_iter=10000))\n",
    "}\n",
    "\n",
    "# Evaluación\n",
    "for nombre, modelo in modelos.items():\n",
    "    modelo.fit(X_train, y_train)\n",
    "    y_pred = modelo.predict(X_test)\n",
    "\n",
    "    mae = mean_absolute_error(y_test, y_pred)\n",
    "    rmse = np.sqrt(mean_squared_error(y_test, y_pred))\n",
    "    r2 = r2_score(y_test, y_pred)\n",
    "    mape = np.mean(np.abs((y_test - y_pred) / y_test)) * 100\n",
    "    medae = median_absolute_error(y_test, y_pred)\n",
    "\n",
    "    print(f\"\\n📊 Modelo: {nombre}\")\n",
    "    print(f\"MAE:    ${mae:,.0f}\")\n",
    "    print(f\"MedAE:  ${medae:,.0f}\")\n",
    "    print(f\"RMSE:   ${rmse:,.0f}\")\n",
    "    print(f\"R²:     {r2:.3f}\")\n",
    "    print(f\"MAPE:   {mape:.2f}%\")\n",
    "\n",
    "    # Mostrar top 5 coeficientes\n",
    "    coef_model = modelo.named_steps[nombre.lower()]\n",
    "    coefs = coef_model.coef_\n",
    "    top = pd.Series(coefs, index=X.columns).sort_values(ascending=False)\n",
    "    print(\"Top + features:\", list(top.head(3).index))\n",
    "    print(\"Top - features:\", list(top.tail(3).index))"
   ]
  },
  {
   "cell_type": "code",
   "execution_count": 19,
   "metadata": {},
   "outputs": [
    {
     "name": "stdout",
     "output_type": "stream",
     "text": [
      "count     18254.000000\n",
      "mean      27852.262131\n",
      "std       20317.490113\n",
      "min         102.145923\n",
      "25%       16309.012876\n",
      "50%       23690.987124\n",
      "75%       32698.819742\n",
      "max      610000.000000\n",
      "Name: Precio_usd, dtype: float64\n"
     ]
    }
   ],
   "source": [
    "print(df['Precio_usd'].describe())"
   ]
  }
 ],
 "metadata": {
  "kernelspec": {
   "display_name": "Python 3",
   "language": "python",
   "name": "python3"
  },
  "language_info": {
   "codemirror_mode": {
    "name": "ipython",
    "version": 3
   },
   "file_extension": ".py",
   "mimetype": "text/x-python",
   "name": "python",
   "nbconvert_exporter": "python",
   "pygments_lexer": "ipython3",
   "version": "3.9.6"
  }
 },
 "nbformat": 4,
 "nbformat_minor": 2
}
